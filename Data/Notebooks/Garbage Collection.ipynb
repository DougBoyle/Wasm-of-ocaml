{
 "cells": [
  {
   "cell_type": "code",
   "execution_count": null,
   "id": "offensive-petersburg",
   "metadata": {},
   "outputs": [],
   "source": [
    "%matplotlib inline\n",
    "\n",
    "import matplotlib\n",
    "import numpy as np\n",
    "import matplotlib.pyplot as plt\n",
    "\n",
    "import mpld3\n",
    "#mpld3.enable_notebook()"
   ]
  },
  {
   "cell_type": "markdown",
   "id": "different-foundation",
   "metadata": {},
   "source": [
    "## Comparison of new GC method for fragmented memory\n",
    "Read in data from results.txt file.  \n",
    "Has a description, 'Old Verion:', old data, 'New Version:', new data"
   ]
  },
  {
   "cell_type": "code",
   "execution_count": null,
   "id": "legendary-percentage",
   "metadata": {},
   "outputs": [],
   "source": [
    "with open(\"../../wasm-of-ocaml/benchmarks/gc/results.txt\") as f:\n",
    "    old_data = []\n",
    "    new_data = []\n",
    "    old = True\n",
    "    for line in f.readlines():\n",
    "        if line.startswith(\"New Version\"):\n",
    "            old = False\n",
    "        if line[0].isdigit():\n",
    "            iters, mean, std = line.strip().split()\n",
    "            if old:\n",
    "                old_data.append((int(iters), float(mean), float(std)))\n",
    "            else:\n",
    "                new_data.append((int(iters), float(mean), float(std)))\n",
    "\n",
    "# reaches limiting behaviour after about 1000 iterations, so truncate data\n",
    "old_data = old_data[:-9]\n",
    "new_data = new_data[:-9]"
   ]
  },
  {
   "cell_type": "code",
   "execution_count": null,
   "id": "loaded-finger",
   "metadata": {
    "scrolled": false
   },
   "outputs": [],
   "source": [
    "x = [x[0] for x in old_data]\n",
    "y1 = np.array([x[1] for x in old_data])\n",
    "y1err = np.array([x[2] for x in old_data])\n",
    "y2 = np.array([x[1] for x in new_data])\n",
    "y2err = np.array([x[2] for x in new_data])\n",
    "\n",
    "# error bars are 1 std deviation\n",
    "# Now that all tracing information left out, much closer performance\n",
    "plt.errorbar(x, y1, yerr=y1err)\n",
    "plt.errorbar(x, y2, yerr=y2err)\n",
    "\n",
    "plt.figure()\n",
    "\n",
    "plt.title(\"speedup\")\n",
    "plt.plot(x, y1/y2)\n",
    "plt.ylim(1,np.max(y1/y2)*1.1)\n",
    "plt.show()"
   ]
  },
  {
   "cell_type": "markdown",
   "id": "gross-pharmaceutical",
   "metadata": {},
   "source": [
    "## Benefit of cutoff for repeating GC\n",
    "alltrees run with size 5, 6, 7, 8 and 9 (shadow stack overflow if tried with 10). Shows that old version and new version without threshold are near identical, but adding that threshold can dramatically reduce execution time. Execution time and memory usage of problem grows exponentially with tree size."
   ]
  },
  {
   "cell_type": "code",
   "execution_count": null,
   "id": "moved-debate",
   "metadata": {},
   "outputs": [],
   "source": [
    "with open(\"../../wasm-of-ocaml/benchmarks/gc/alltrees_results.txt\") as f:\n",
    "    old_data1 = []\n",
    "    new_data1 = []\n",
    "    new_with_threshold_data = [] # always grow heap if only 1KB (256 words) could be freed\n",
    "    i = 0\n",
    "    for line in f.readlines():\n",
    "        if len(line.strip()) == 0:\n",
    "            i += 1\n",
    "        if line[0].isdigit():\n",
    "            iters, mean, std = line.strip().split()\n",
    "            if i == 0:\n",
    "                old_data1.append((int(iters), float(mean), float(std)))\n",
    "            elif i == 1:\n",
    "                new_data1.append((int(iters), float(mean), float(std)))\n",
    "            else:\n",
    "                new_with_threshold_data.append((int(iters), float(mean), float(std)))"
   ]
  },
  {
   "cell_type": "code",
   "execution_count": null,
   "id": "official-ultimate",
   "metadata": {},
   "outputs": [],
   "source": [
    "x = [x[0] for x in old_data1]\n",
    "y1 = np.array([x[1] for x in old_data1])\n",
    "y1err = np.array([x[2] for x in old_data1])\n",
    "y2 = np.array([x[1] for x in new_data1])\n",
    "y2err = np.array([x[2] for x in new_data1])\n",
    "y3 = np.array([x[1] for x in new_with_threshold_data])\n",
    "y3err = np.array([x[2] for x in new_with_threshold_data])\n",
    "\n",
    "# error bars are 1 std deviation\n",
    "# Now that all tracing information left out, much closer performance\n",
    "plt.errorbar(x, y1, yerr=y1err, label=\"old\")\n",
    "plt.errorbar(x, y2, yerr=y2err, label=\"new\")\n",
    "plt.errorbar(x, y3, yerr=y3err, label=\"new with threshold\")\n",
    "plt.legend()\n",
    "plt.xticks(x)\n",
    "plt.yscale('log')\n",
    "\n",
    "plt.figure()\n",
    "plt.title(\"speedup\")\n",
    "plt.plot(x, y1/y2, label=\"no threshold\", c=\"tab:orange\")\n",
    "plt.plot(x, y1/y3, label=\"threshold\", c=\"g\")\n",
    "plt.legend()\n",
    "plt.xticks(x)\n",
    "# mpld3 doesn't seem to work with hlines properly\n",
    "#plt.hlines(1.0, 5, 9, color='b', linestyle='dotted')\n",
    "plt.plot([5,9], [1,1], \"--\")\n",
    "plt.show()"
   ]
  },
  {
   "cell_type": "markdown",
   "id": "sitting-lender",
   "metadata": {},
   "source": [
    "Tracing data from alltrees 9, showing number of frees each time GC is called. Note the length of the x-axis i.e. the total number of GC calls made."
   ]
  },
  {
   "cell_type": "code",
   "execution_count": null,
   "id": "blind-fishing",
   "metadata": {},
   "outputs": [],
   "source": [
    "frees = []\n",
    "memgrows = []\n",
    "with open(\"../../wasm-of-ocaml/benchmarks/gc/trees9.txt\") as f:\n",
    "    f.readline()\n",
    "    frees = eval(f.readline())\n",
    "    memgrows = eval(f.readline())\n",
    "    \n",
    "#plt.figure(1,(0.03*len(frees),3))\n",
    "plt.figure(1,(12,3))\n",
    "\n",
    "plt.plot(frees, label=\"frees\")\n",
    "plt.vlines(np.where(memgrows), -300, -50, colors='k')\n",
    "# don't show the large free of 2x as many objects at the end of each trace\n",
    "plt.ylim(-200, 2200)\n",
    "plt.title(\"Without threshold\")\n",
    "\n",
    "frees = []\n",
    "memgrows = []\n",
    "with open(\"../../wasm-of-ocaml/benchmarks/gc/newtrees9.txt\") as f:\n",
    "    f.readline()\n",
    "    frees = eval(f.readline())\n",
    "    memgrows = eval(f.readline())\n",
    "\n",
    "# mark number of GC calls in optimised approach on the first plot\n",
    "n = len(frees)\n",
    "plt.plot([n,n],[-300,2200], \"g--\")\n",
    "    \n",
    "#plt.figure(2,(0.03*len(frees),3))\n",
    "plt.figure(2,(12,3))\n",
    "\n",
    "plt.plot(frees, \"g\", label=\"frees\")\n",
    "plt.vlines(np.where(memgrows), -300, -50, colors='k')\n",
    "plt.ylim(-200, 2200)\n",
    "plt.title(\"With threshold\")\n",
    "plt.show()"
   ]
  }
 ],
 "metadata": {
  "kernelspec": {
   "display_name": "Python 3",
   "language": "python",
   "name": "python3"
  },
  "language_info": {
   "codemirror_mode": {
    "name": "ipython",
    "version": 3
   },
   "file_extension": ".py",
   "mimetype": "text/x-python",
   "name": "python",
   "nbconvert_exporter": "python",
   "pygments_lexer": "ipython3",
   "version": "3.8.5"
  }
 },
 "nbformat": 4,
 "nbformat_minor": 5
}
