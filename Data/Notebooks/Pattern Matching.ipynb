{
 "cells": [
  {
   "cell_type": "code",
   "execution_count": null,
   "id": "complicated-indonesia",
   "metadata": {},
   "outputs": [],
   "source": [
    "%matplotlib inline\n",
    "\n",
    "import matplotlib\n",
    "import numpy as np\n",
    "import matplotlib.pyplot as plt\n",
    "\n",
    "import mpld3\n",
    "#mpld3.enable_notebook()"
   ]
  },
  {
   "cell_type": "code",
   "execution_count": null,
   "id": "thermal-spare",
   "metadata": {},
   "outputs": [],
   "source": [
    "def normalise(means, errors, baseline, keep=False):\n",
    "    new_means = {}\n",
    "    new_errors = {}\n",
    "    num_tests = len(means[baseline])\n",
    "    for version in means:\n",
    "        if version == baseline and not keep:\n",
    "            continue\n",
    "        new_means[version] = [means[version][i]/means[baseline][i] for i in range(num_tests)]\n",
    "        new_errors[version] =[errors[version][i]/means[baseline][i] for i in range(num_tests)]\n",
    "    return new_means, new_errors"
   ]
  },
  {
   "cell_type": "code",
   "execution_count": null,
   "id": "hourly-madrid",
   "metadata": {},
   "outputs": [],
   "source": [
    "def bar_plot(ax, data, errors=None, colors=None, total_width=0.8, single_width=1, legend=False, capsize=3):\n",
    "    \"\"\"Draws a bar plot with multiple bars per data point.\n",
    "\n",
    "    Parameters\n",
    "    ----------\n",
    "    ax : matplotlib.pyplot.axis\n",
    "        The axis we want to draw our plot on.\n",
    "\n",
    "    data: dictionary\n",
    "        A dictionary containing the data we want to plot. Keys are the names of the\n",
    "        data, the items is a list of the values.\n",
    "\n",
    "        Example:\n",
    "        data = {\n",
    "            \"x\":[1,2,3],\n",
    "            \"y\":[1,2,3],\n",
    "            \"z\":[1,2,3],\n",
    "        }\n",
    "\n",
    "    errors: dictionary, optional\n",
    "        Dictionary of standard deviations, corresponding structure to data\n",
    "\n",
    "    colors : array-like, optional\n",
    "        A list of colors which are used for the bars. If None, the colors\n",
    "        will be the standard matplotlib color cyle. (default: None)\n",
    "\n",
    "    total_width : float, optional, default: 0.8\n",
    "        The width of a bar group. 0.8 means that 80% of the x-axis is covered\n",
    "        by bars and 20% will be spaces between the bars.\n",
    "\n",
    "    single_width: float, optional, default: 1\n",
    "        The relative width of a single bar within a group. 1 means the bars\n",
    "        will touch eachother within a group, values less than 1 will make\n",
    "        these bars thinner.\n",
    "\n",
    "    legend: bool, optional, default: True\n",
    "        If this is set to true, a legend will be added to the axis.\n",
    "    \"\"\"\n",
    "\n",
    "    # Check if colors where provided, otherwhise use the default color cycle\n",
    "    if colors is None:\n",
    "        colors = plt.rcParams['axes.prop_cycle'].by_key()['color']\n",
    "\n",
    "    # Number of bars per group\n",
    "    n_bars = len(data)\n",
    "\n",
    "    # The width of a single bar\n",
    "    bar_width = total_width / n_bars\n",
    "\n",
    "    # List containing handles for the drawn bars, used for the legend\n",
    "    bars = []\n",
    "\n",
    "    # Iterate over all data\n",
    "    for i, (name, values) in enumerate(data.items()):\n",
    "        # The offset in x direction of that bar\n",
    "        x_offset = (i - n_bars / 2) * bar_width + bar_width / 2\n",
    "\n",
    "        # Draw a bar for every value of that type\n",
    "        for x, y in enumerate(values):\n",
    "            if errors is None:\n",
    "                bar = ax.bar(x + x_offset, y, width=bar_width * single_width, color=colors[i % len(colors)])\n",
    "            else:\n",
    "                err = errors[name][x]\n",
    "                bar = ax.bar(x + x_offset, y, yerr=err, error_kw=dict(capsize=capsize),\n",
    "                             width=bar_width * single_width, color=colors[i % len(colors)])\n",
    "\n",
    "        # Add a handle to the last drawn bar, which we'll need for the legend\n",
    "        bars.append(bar[0])\n",
    "\n",
    "#    # Draw legend if we need\n",
    "#    if legend:\n",
    "#        ax.legend(bars, data.keys())\n",
    "    # return the handlers/labels for a legend\n",
    "    if legend:\n",
    "        return bars, data.keys()"
   ]
  },
  {
   "cell_type": "markdown",
   "id": "objective-performance",
   "metadata": {},
   "source": [
    "## Specific pattern matching cases with significant improvement"
   ]
  },
  {
   "cell_type": "code",
   "execution_count": null,
   "id": "primary-insert",
   "metadata": {},
   "outputs": [],
   "source": [
    "data = {}\n",
    "# Check file to see formatting, has explanation between data\n",
    "with open(\"../../wasm-of-ocaml/benchmarks/evaluation/patternMatching.txt\") as f:\n",
    "    for _ in range(2):\n",
    "        f.readline()\n",
    "    for _ in range(2):\n",
    "        line = f.readline().strip().split()\n",
    "        data[line[0]] = {\"original\" : \n",
    "          {\"time\" : float(line[1]), \"error\" : float(line[2]), \"heap\": float(line[3]), \"filesize\" : float(line[4])}}\n",
    "    \n",
    "    for _ in range(2):\n",
    "        f.readline()\n",
    "    for _ in range(2):\n",
    "        line = f.readline().strip().split()\n",
    "        data[line[0]][\"optimised\"] = \\\n",
    "          {\"time\" : float(line[1]), \"error\" : float(line[2]), \"heap\": float(line[3]), \"filesize\" : float(line[4])}\n",
    "    "
   ]
  },
  {
   "cell_type": "code",
   "execution_count": null,
   "id": "psychological-pitch",
   "metadata": {
    "scrolled": false
   },
   "outputs": [],
   "source": [
    "data"
   ]
  },
  {
   "cell_type": "code",
   "execution_count": null,
   "id": "classical-agriculture",
   "metadata": {
    "scrolled": true
   },
   "outputs": [],
   "source": [
    "fig, axs = plt.subplots(1, 2, figsize=(12,4))\n",
    "ax = axs[0]\n",
    "times = {version: [data[test][version][\"time\"] for test in [\"splice\", \"splice2\"]] for version in [\"original\", \"optimised\"]}\n",
    "errors = {version: [data[test][version][\"error\"] for test in [\"splice\", \"splice2\"]] for version in [\"original\", \"optimised\"]}\n",
    "#times = {lang : [means[lang][b] for b in benchmarks if b != \"arith\"] for lang in means if lang != \"Grain\"}\n",
    "bar_plot(ax, times, errors=errors, capsize=15)\n",
    "ax.set_title(\"Execution time\")\n",
    "ax.set_xticks(range(2))\n",
    "ax.set_xticklabels([\"splice\", \"splice2\"])\n",
    "ax.set_ylabel(\"time (ms)\");\n",
    "\n",
    "ax = axs[1]\n",
    "sizes = {version: [data[test][version][\"filesize\"] for test in [\"splice\", \"splice2\"]] for version in [\"original\", \"optimised\"]}\n",
    "handlers, labels = bar_plot(ax, sizes, legend=True)\n",
    "ax.set_title(\"Filesize\")\n",
    "ax.set_xticks(range(2))\n",
    "ax.set_xticklabels([\"splice\", \"splice2\"])\n",
    "ax.set_ylabel(\"size (bytes)\");\n",
    "\n",
    "fig.legend(handlers, labels, loc='upper left');"
   ]
  },
  {
   "cell_type": "markdown",
   "id": "dependent-venture",
   "metadata": {},
   "source": [
    "## More general performance"
   ]
  },
  {
   "cell_type": "code",
   "execution_count": null,
   "id": "prepared-necessity",
   "metadata": {},
   "outputs": [],
   "source": [
    "data = {}\n",
    "# Check file to see formatting, has explanation between data\n",
    "with open(\"../../wasm-of-ocaml/benchmarks/evaluation/patternMatching.txt\") as f:\n",
    "    line = \"\"\n",
    "    while not line.startswith(\"-----\"):\n",
    "        line = f.readline()\n",
    "    \n",
    "    f.readline()\n",
    "    line = f.readline().strip().split()\n",
    "    while line != []:\n",
    "        data[line[0]] = {\"original\" : \n",
    "          {\"time\" : float(line[1]), \"error\" : float(line[2]), \"heap\": float(line[3]), \"filesize\" : float(line[4])}}\n",
    "        line = f.readline().strip().split()\n",
    "    \n",
    "    f.readline()\n",
    "    line = f.readline().strip().split()\n",
    "    while line != []:\n",
    "        data[line[0]][\"optimised\"] = \\\n",
    "          {\"time\" : float(line[1]), \"error\" : float(line[2]), \"heap\": float(line[3]), \"filesize\" : float(line[4])}\n",
    "        line = f.readline().strip().split()\n",
    "\n",
    "tests = list(data.keys())"
   ]
  },
  {
   "cell_type": "code",
   "execution_count": null,
   "id": "physical-consolidation",
   "metadata": {
    "scrolled": true
   },
   "outputs": [],
   "source": [
    "fig, axs = plt.subplots(1, 2, figsize=(12,4))\n",
    "ax = axs[0]\n",
    "times = {version: [data[test][version][\"time\"] for test in tests] for version in [\"original\", \"optimised\"]}\n",
    "errors = {version: [data[test][version][\"error\"] for test in tests] for version in [\"original\", \"optimised\"]}\n",
    "times, errors = normalise(times, errors, \"original\", True)\n",
    "#times = {lang : [means[lang][b] for b in benchmarks if b != \"arith\"] for lang in means if lang != \"Grain\"}\n",
    "bar_plot(ax, times, errors=errors)\n",
    "ax.set_title(\"Execution time\")\n",
    "ax.set_xticks([])\n",
    "ax.set_ylabel(\"relative time\")\n",
    "ax.set_ylim((0.7, 1.6))\n",
    "\n",
    "ax = axs[1]\n",
    "sizes = {version: [data[test][version][\"filesize\"] for test in tests] for version in [\"original\", \"optimised\"]}\n",
    "handlers, labels = bar_plot(ax, sizes, legend=True)\n",
    "ax.set_title(\"Filesize\")\n",
    "ax.set_xticks([])\n",
    "ax.set_ylabel(\"size (bytes)\");\n",
    "\n",
    "fig.legend(handlers, labels, loc='upper left');\n",
    "plt.subplots_adjust(left=0.15)"
   ]
  },
  {
   "cell_type": "markdown",
   "id": "pointed-personality",
   "metadata": {},
   "source": [
    "Negligible change in execution time. Filesize unchanged except for mergesort program, where it decreases very slightly. Overall, limited impact of changing to optimised version. Could possibly be more significant when very complex cases/datatypes involved, especially with guards.  \n",
    "Filesize decrease is slightly more significant in the case of 'splice' programs, because that is a large part of the programs."
   ]
  }
 ],
 "metadata": {
  "kernelspec": {
   "display_name": "Python 3",
   "language": "python",
   "name": "python3"
  },
  "language_info": {
   "codemirror_mode": {
    "name": "ipython",
    "version": 3
   },
   "file_extension": ".py",
   "mimetype": "text/x-python",
   "name": "python",
   "nbconvert_exporter": "python",
   "pygments_lexer": "ipython3",
   "version": "3.8.5"
  }
 },
 "nbformat": 4,
 "nbformat_minor": 5
}
